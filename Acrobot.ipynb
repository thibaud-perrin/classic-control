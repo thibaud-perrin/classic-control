{
 "cells": [
  {
   "cell_type": "markdown",
   "id": "3bbe0ad8-6cc0-4fa5-9931-6ea1d80b7ef8",
   "metadata": {},
   "source": [
    "# OpenAi Acrobot\n",
    "[Documentation](https://gymnasium.farama.org/environments/classic_control/acrobot/)"
   ]
  },
  {
   "cell_type": "markdown",
   "id": "0d28fdbd-7a3b-4599-9f27-592039ab4d8e",
   "metadata": {},
   "source": [
    "## imports"
   ]
  },
  {
   "cell_type": "code",
   "execution_count": 1,
   "id": "e7fd497b-50bd-4f10-aa66-fc37d46eea43",
   "metadata": {
    "tags": []
   },
   "outputs": [],
   "source": [
    "import os\n",
    "import time\n",
    "import math\n",
    "import gymnasium as gym\n",
    "import numpy as np\n",
    "from numpy import inf\n",
    "import random\n",
    "import imageio\n",
    "from IPython.display import clear_output\n",
    "from IPython import display\n",
    "import matplotlib.pyplot as plt\n",
    "from matplotlib.figure import Figure\n",
    "from matplotlib.backends.backend_agg import FigureCanvasAgg as FigureCanvas\n",
    "from PIL import Image\n",
    "%matplotlib inline"
   ]
  },
  {
   "cell_type": "markdown",
   "id": "a26c0a8e-1684-407b-a049-7cae99cf7cc0",
   "metadata": {},
   "source": [
    "## Global variables"
   ]
  },
  {
   "cell_type": "code",
   "execution_count": 2,
   "id": "b7e0f1c5-9ea2-4eeb-8347-4def1977cae6",
   "metadata": {
    "tags": []
   },
   "outputs": [
    {
     "data": {
      "text/plain": [
       "107"
      ]
     },
     "execution_count": 2,
     "metadata": {},
     "output_type": "execute_result"
    }
   ],
   "source": [
    "EPISODES = 25000\n",
    "SHOW_EVERY = 250\n",
    "RANDOM_SEED = random.randint(1, 5000)\n",
    "# RANDOM_SEED = 3847 # comment for a random seed\n",
    "RANDOM_SEED"
   ]
  },
  {
   "cell_type": "markdown",
   "id": "c5bec839-863b-425e-bc0e-12cd97178107",
   "metadata": {},
   "source": [
    "## Get env informations"
   ]
  },
  {
   "cell_type": "code",
   "execution_count": 3,
   "id": "2aba9097-6a7a-4687-a974-0a63be600b4a",
   "metadata": {
    "tags": []
   },
   "outputs": [
    {
     "name": "stdout",
     "output_type": "stream",
     "text": [
      "high\t\t=\t[ 1.        1.        1.        1.       12.566371 28.274334]\n",
      "low\t\t=\t[ -1.        -1.        -1.        -1.       -12.566371 -28.274334]\n",
      "observations\t=\t[ 0.9999155  -0.01299944  0.9956811   0.09283944 -0.04184029  0.051858  ]\n",
      "len_obs\t\t=\t6\n",
      "action_space\t=\t3\n",
      "reward_threshold=\t-100.0\n"
     ]
    }
   ],
   "source": [
    "env = gym.make(\"Acrobot-v1\", render_mode=\"rgb_array\")\n",
    "obs, _ = env.reset()\n",
    "\n",
    "high = env.observation_space.high\n",
    "low = env.observation_space.low\n",
    "print(f\"high\\t\\t=\\t{high}\")\n",
    "print(f\"low\\t\\t=\\t{low}\")\n",
    "print(f\"observations\\t=\\t{obs}\")\n",
    "print(f\"len_obs\\t\\t=\\t{len(high)}\")\n",
    "print(f\"action_space\\t=\\t{env.action_space.n}\")\n",
    "print(f\"reward_threshold=\\t{env.spec.reward_threshold}\")"
   ]
  },
  {
   "cell_type": "markdown",
   "id": "d57a9c03-034f-4893-b67d-7797449bb422",
   "metadata": {},
   "source": [
    "## Set-up the Agent"
   ]
  },
  {
   "cell_type": "code",
   "execution_count": 4,
   "id": "658c4d7f-cc43-4d00-bf78-9cccdb9396ab",
   "metadata": {
    "tags": []
   },
   "outputs": [],
   "source": [
    "class Agent():\n",
    "    def __init__(self, bin_size: int = 10, seed: int = None):\n",
    "        self.env = gym.make(\"Acrobot-v1\", render_mode=\"rgb_array\")\n",
    "        self.seed = seed\n",
    "        if self.seed:\n",
    "            self.env.action_space.seed(self.seed)\n",
    "            np.random.seed(self.seed)\n",
    "            \n",
    "        # init env\n",
    "        self.reset()\n",
    "        self.state_space = len(env.observation_space.high) # number of states (Position, Velocity, Angle, Angular Velocity): 4\n",
    "        self.action_space = self.env.action_space.n # number of possible actions (0, 1): 2\n",
    "        self.bin_size = bin_size\n",
    "        self.q_table, self.discrete_os_win_size = self.Qtable()\n",
    "        \n",
    "        # Epsilon\n",
    "        self.epsilon = 0.5\n",
    "    \n",
    "    def reset(self):\n",
    "        if self.seed:\n",
    "            return self.env.reset(seed=self.seed)\n",
    "        else:\n",
    "            return self.env.reset()\n",
    "\n",
    "    def __get_last(self, l):\n",
    "        return None if len(l) <= 0 else l[-1]\n",
    "    \n",
    "    def Qtable(self):\n",
    "        high = env.observation_space.high\n",
    "        low = env.observation_space.low\n",
    "        \n",
    "        discrete_os_size = [self.bin_size] * self.state_space\n",
    "        discrete_os_win_size = (high - low) / np.subtract(discrete_os_size, [1])\n",
    "        q_table = np.random.uniform(low=-2, high=2, size=(discrete_os_size + [self.action_space]))\n",
    "        return q_table, discrete_os_win_size\n",
    "    \n",
    "    def get_discrete(self, state):\n",
    "        low = env.observation_space.low\n",
    "        discrete_state = (state - low) / self.discrete_os_win_size\n",
    "        return tuple(discrete_state.astype(np.int64))\n",
    "    \n",
    "    def policy(self, state: tuple):\n",
    "        # Choosing action based on epsilon-greedy policy\n",
    "        return np.argmax(self.q_table[state])\n",
    "    \n",
    "    def new_Q_value(self, reward: float, new_state: tuple, gamma = 0.95) -> float:\n",
    "        # Maximum possible QValue in the next step\n",
    "        max_future_q = np.max(self.q_table[new_state])\n",
    "        learned_value = reward + gamma * max_future_q\n",
    "        return learned_value\n",
    "    \n",
    "    def learning_rate(self) -> float:\n",
    "        return 0.1\n",
    "    \n",
    "    def update_exploration_rate(self, episode: int) -> float:\n",
    "        start_epsilon_decaying = 1\n",
    "        end_epsilon_decaying = EPISODES // 2\n",
    "        epsilon_decay_value = self.epsilon / (end_epsilon_decaying - start_epsilon_decaying)\n",
    "        if end_epsilon_decaying >= episode >= start_epsilon_decaying:\n",
    "            self.epsilon -= epsilon_decay_value\n",
    "    \n",
    "    def fit(self, episodes = 2000):\n",
    "        rewards = []\n",
    "        aggr_ep_rewards = {'ep': [], 'avg': [], 'min': [], 'max': []}\n",
    "        solved = 0\n",
    "\n",
    "        for episode in range(episodes):\n",
    "            print(f\"{episode + 1}/{episodes} : sloved=({solved} => {int(solved * 100 / (episode+1))}%) | avg: {self.__get_last(aggr_ep_rewards['avg'])} min: {self.__get_last(aggr_ep_rewards['min'])} max: {self.__get_last(aggr_ep_rewards['max'])}\", end=\"\\r\")\n",
    "            # episode initialization \n",
    "            discrete_state = self.get_discrete(self.reset()[0])\n",
    "            score = 0\n",
    "            step = 0\n",
    "            done = False\n",
    "\n",
    "            # learning loop for the current episode\n",
    "            while not done:\n",
    "                # action selection\n",
    "                if np.random.random() > self.epsilon:\n",
    "                    action = self.policy(discrete_state) # policy action\n",
    "                else:\n",
    "                    action = self.env.action_space.sample() # random action\n",
    "\n",
    "                # increment environment\n",
    "                observation, reward, terminated, truncated, info = self.env.step(action)\n",
    "                done = terminated or truncated\n",
    "                next_state = self.get_discrete(observation)\n",
    "                score += reward\n",
    "                \n",
    "                # If the simulation did not end - updating Q table\n",
    "                if not done:\n",
    "                    # learning from environnement\n",
    "                    lr = self.learning_rate()\n",
    "                    learnt_value = self.new_Q_value(reward, next_state)\n",
    "                    # Current Qvalue for the current state and selected action\n",
    "                    current_q = self.q_table[discrete_state + (action, )]\n",
    "                    # QLearning equation to calculate the new Qvalue\n",
    "                    new_q = (1-lr) * current_q + lr * learnt_value\n",
    "                    # Updating Qtable\n",
    "                    self.q_table[discrete_state + (action, )] = new_q\n",
    "                    \n",
    "                # if simulation ended and goal position is achived\n",
    "                elif score >= self.env.spec.reward_threshold:\n",
    "                    self.q_table[discrete_state + (action, )] = 0\n",
    "                    # End of the episode update\n",
    "                    solved += 1\n",
    "                \n",
    "                discrete_state = next_state\n",
    "                \n",
    "                step += 1\n",
    "                \n",
    "            # Updating epsilon rate\n",
    "            self.update_exploration_rate(episode)\n",
    "                \n",
    "            rewards += [score]\n",
    "            if not episode % SHOW_EVERY:\n",
    "                average_reward = sum(rewards[-SHOW_EVERY:])/len(rewards[-SHOW_EVERY:])\n",
    "                aggr_ep_rewards['ep'] += [episode]\n",
    "                aggr_ep_rewards['avg'] += [average_reward]\n",
    "                aggr_ep_rewards['min'] += [min(rewards[-SHOW_EVERY:])]\n",
    "                aggr_ep_rewards['max'] += [max(rewards[-SHOW_EVERY:])]\n",
    "                \n",
    "        self.env.close()\n",
    "        print(\"\\nEnd\")\n",
    "        return rewards, aggr_ep_rewards\n",
    "    \n",
    "    def render(self):\n",
    "        img = plt.imshow(self.env.render())\n",
    "        current_state = self.get_discrete(self.env.reset()[0])\n",
    "        for t in range(1000):\n",
    "            action = self.policy(current_state)\n",
    "            observation, reward, terminated, truncated, info = self.env.step(action)\n",
    "            done = terminated or truncated\n",
    "\n",
    "            img.set_data(self.env.render())\n",
    "            plt.axis('off')\n",
    "            plt.suptitle(f\"Timestep=({t})\")\n",
    "            display.display(plt.gcf())\n",
    "            clear_output(wait=True)\n",
    "\n",
    "            if done:\n",
    "                observation, info = self.reset()\n",
    "                break\n",
    "            else:\n",
    "                current_state = self.get_discrete(observation)\n",
    "\n",
    "        self.env.close()\n",
    "    \n",
    "    def __update_plot(self, frame_number, current_state, num_iteration):\n",
    "        \"\"\"\n",
    "        Updates the plot.\n",
    "\n",
    "        Args:\n",
    "        - frame_number (int): The current frame number.\n",
    "        - current_state (np.ndarray): The current state.\n",
    "        - num_iteration (int): The current number of iterations.\n",
    "\n",
    "        Returns:\n",
    "        - image (np.ndarray): The current image.\n",
    "        - frame_number (int): The updated frame number.\n",
    "        - current_state (np.ndarray): The current state.\n",
    "        - num_iteration (int): The updated number of iterations.\n",
    "        \"\"\"\n",
    "        # Get action from policy\n",
    "        action = self.policy(current_state)\n",
    "        # Take a step in the environment\n",
    "        observation, reward, terminated, truncated, info = self.env.step(action)\n",
    "        done = terminated or truncated\n",
    "        # Render the current state and convert it to a plot\n",
    "        state = self.env.render()\n",
    "        # converting state to plot in order to stylize it\n",
    "        fig = Figure()\n",
    "        canvas = FigureCanvas(fig)\n",
    "        ax = fig.add_subplot(1,1,1)\n",
    "        ax.imshow(state)\n",
    "        ax.axis('off')\n",
    "        ax.set_title(f\"Timestep=({frame_number})\")\n",
    "        canvas.draw()\n",
    "        # Convert plot back to an image\n",
    "        size = fig.get_size_inches() * fig.dpi\n",
    "        image = np.frombuffer(canvas.tostring_rgb(), dtype='uint8').reshape(int(size[1]), int(size[0]), 3)\n",
    "\n",
    "        if done:\n",
    "            # If episode is done, reset the environment\n",
    "            observation, info = self.reset()\n",
    "            num_iteration -= 1\n",
    "            time.sleep(0.5)\n",
    "            frame_number = 0\n",
    "        else:\n",
    "            # Otherwise, increment the frame number\n",
    "            current_state = self.get_discrete(observation)\n",
    "            frame_number += 1\n",
    "        return image, frame_number, current_state, num_iteration\n",
    "    \n",
    "    def save(self):\n",
    "        # Get the initial state and render it\n",
    "        current_state = self.get_discrete(self.reset()[0])\n",
    "        frame = self.env.render()\n",
    "        # Initialize the number of iterations and frames\n",
    "        num_iteration = 5\n",
    "        images = []\n",
    "        frame_number = 0\n",
    "        # Run the simulation for num_iteration iterations\n",
    "        while num_iteration > 0:\n",
    "            print(f\"{(5 - num_iteration)+1}/{5}\", end=\"\\r\")\n",
    "            # Update the plot and append the resulting image to images\n",
    "            frame, frame_number, current_state, num_iteration = self.__update_plot(frame_number, current_state, num_iteration)\n",
    "            images.append(Image.fromarray(frame))\n",
    "        # Save the images as a gif\n",
    "        print(\"\\nSaving..............\", end=\"\\r\")     \n",
    "        images[0].save('img/acrobot.gif', format='GIF', save_all=True, append_images=images[1:], duration=50, loop=0)\n",
    "        print(\"Saved\")"
   ]
  },
  {
   "cell_type": "code",
   "execution_count": 5,
   "id": "20f66b9c-4b66-4ff7-a8db-49c3092ad69a",
   "metadata": {
    "tags": []
   },
   "outputs": [
    {
     "name": "stdout",
     "output_type": "stream",
     "text": [
      "25000/25000 : sloved=(0 => 0%) | avg: -410.608 min: -500.0 max: -153.0\n",
      "End\n"
     ]
    }
   ],
   "source": [
    "agent_argmax = Agent(bin_size=30)\n",
    "rewards_argmax, aggr_ep_rewards_argmax = agent_argmax.fit(episodes = EPISODES)"
   ]
  },
  {
   "cell_type": "code",
   "execution_count": 6,
   "id": "2ff8b551-2a99-4fb4-acb1-c95ee97f0037",
   "metadata": {
    "tags": []
   },
   "outputs": [
    {
     "data": {
      "image/png": "[encoded data removed]",
      "text/plain": [
       "<Figure size 640x480 with 1 Axes>"
      ]
     },
     "metadata": {},
     "output_type": "display_data"
    }
   ],
   "source": [
    "agent_argmax.render()"
   ]
  },
  {
   "cell_type": "code",
   "execution_count": 7,
   "id": "da6d1f84-c583-4428-9417-1b7dc30b7f99",
   "metadata": {
    "tags": []
   },
   "outputs": [
    {
     "data": {
      "image/png": "[encoded data removed]",
      "text/plain": [
       "<Figure size 640x480 with 1 Axes>"
      ]
     },
     "metadata": {},
     "output_type": "display_data"
    }
   ],
   "source": [
    "plt.plot(aggr_ep_rewards_argmax['ep'], aggr_ep_rewards_argmax['avg'], label=\"avg\")\n",
    "plt.plot(aggr_ep_rewards_argmax['ep'], aggr_ep_rewards_argmax['min'], label=\"min\")\n",
    "plt.plot(aggr_ep_rewards_argmax['ep'], aggr_ep_rewards_argmax['max'], label=\"max\")\n",
    "plt.legend(loc=4)\n",
    "plt.show()"
   ]
  },
  {
   "cell_type": "code",
   "execution_count": 8,
   "id": "a9e734e9-04b3-4546-8814-669340640ec8",
   "metadata": {
    "tags": []
   },
   "outputs": [
    {
     "name": "stdout",
     "output_type": "stream",
     "text": [
      "5/5\n",
      "Savedg..............\n"
     ]
    }
   ],
   "source": [
    "agent_argmax.save()"
   ]
  },
  {
   "cell_type": "code",
   "execution_count": null,
   "id": "829effe2-56a5-46e9-8dee-57bb9e751ca6",
   "metadata": {},
   "outputs": [],
   "source": []
  }
 ],
 "metadata": {
  "kernelspec": {
   "display_name": "Python 3 (ipykernel)",
   "language": "python",
   "name": "python3"
  },
  "language_info": {
   "codemirror_mode": {
    "name": "ipython",
    "version": 3
   },
   "file_extension": ".py",
   "mimetype": "text/x-python",
   "name": "python",
   "nbconvert_exporter": "python",
   "pygments_lexer": "ipython3",
   "version": "3.11.2"
  }
 },
 "nbformat": 4,
 "nbformat_minor": 5
}
