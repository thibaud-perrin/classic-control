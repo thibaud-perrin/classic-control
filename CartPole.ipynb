{
 "cells": [
  {
   "cell_type": "markdown",
   "id": "3bbe0ad8-6cc0-4fa5-9931-6ea1d80b7ef8",
   "metadata": {},
   "source": [
    "# OpenAi CartPole\n",
    "[Documentation](https://gymnasium.farama.org/environments/classic_control/cart_pole/)  \n",
    "This environment is part of the Classic Control environments which contains general information about the environment.\n",
    "\n",
    "## Description\n",
    "This environment corresponds to the version of the cart-pole problem described by Barto, Sutton, and Anderson in “Neuronlike Adaptive Elements That Can Solve Difficult Learning Control Problem”. A pole is attached by an un-actuated joint to a cart, which moves along a frictionless track. The pendulum is placed upright on the cart and the goal is to balance the pole by applying forces in the left and right direction on the cart."
   ]
  },
  {
   "cell_type": "markdown",
   "id": "0d28fdbd-7a3b-4599-9f27-592039ab4d8e",
   "metadata": {},
   "source": [
    "## imports"
   ]
  },
  {
   "cell_type": "code",
   "execution_count": 9,
   "id": "e7fd497b-50bd-4f10-aa66-fc37d46eea43",
   "metadata": {
    "tags": []
   },
   "outputs": [],
   "source": [
    "import os\n",
    "import time\n",
    "import math\n",
    "import gymnasium as gym\n",
    "import numpy as np\n",
    "from numpy import inf\n",
    "import random\n",
    "import imageio\n",
    "from IPython.display import clear_output\n",
    "from IPython import display\n",
    "import matplotlib.pyplot as plt\n",
    "from matplotlib.figure import Figure\n",
    "from matplotlib.backends.backend_agg import FigureCanvasAgg as FigureCanvas\n",
    "from PIL import Image\n",
    "%matplotlib inline"
   ]
  },
  {
   "cell_type": "markdown",
   "id": "a26c0a8e-1684-407b-a049-7cae99cf7cc0",
   "metadata": {},
   "source": [
    "## Global variables"
   ]
  },
  {
   "cell_type": "code",
   "execution_count": 2,
   "id": "b7e0f1c5-9ea2-4eeb-8347-4def1977cae6",
   "metadata": {
    "tags": []
   },
   "outputs": [
    {
     "data": {
      "text/plain": [
       "1179"
      ]
     },
     "execution_count": 2,
     "metadata": {},
     "output_type": "execute_result"
    }
   ],
   "source": [
    "EPISODES = 25000\n",
    "SHOW_EVERY = 250\n",
    "RANDOM_SEED = random.randint(1, 5000)\n",
    "# RANDOM_SEED = 3847 # comment for a random seed\n",
    "RANDOM_SEED"
   ]
  },
  {
   "cell_type": "markdown",
   "id": "c5bec839-863b-425e-bc0e-12cd97178107",
   "metadata": {},
   "source": [
    "## Get env informations"
   ]
  },
  {
   "cell_type": "code",
   "execution_count": 3,
   "id": "2aba9097-6a7a-4687-a974-0a63be600b4a",
   "metadata": {
    "tags": []
   },
   "outputs": [
    {
     "name": "stdout",
     "output_type": "stream",
     "text": [
      "[4.8000002e+00 3.4028235e+38 4.1887903e-01 3.4028235e+38]\n",
      "[-4.8000002e+00 -3.4028235e+38 -4.1887903e-01 -3.4028235e+38]\n",
      "4\n",
      "2\n"
     ]
    }
   ],
   "source": [
    "env = gym.make(\"CartPole-v1\", render_mode=\"rgb_array\")\n",
    "env.reset()\n",
    "\n",
    "print(env.observation_space.high)\n",
    "print(env.observation_space.low)\n",
    "print(env.state.shape[0])\n",
    "print(env.action_space.n)\n"
   ]
  },
  {
   "cell_type": "markdown",
   "id": "d57a9c03-034f-4893-b67d-7797449bb422",
   "metadata": {},
   "source": [
    "## Set-up the Agent"
   ]
  },
  {
   "cell_type": "code",
   "execution_count": 4,
   "id": "658c4d7f-cc43-4d00-bf78-9cccdb9396ab",
   "metadata": {
    "tags": []
   },
   "outputs": [],
   "source": [
    "class Agent():\n",
    "    \"\"\"\n",
    "    This class implements the Q-Learning algorithm on the CartPole-v1 OpenAI environment\n",
    "    \"\"\"\n",
    "    def __init__(self, bin_size: int = 30, seed: int = None):\n",
    "        \"\"\"\n",
    "        Agent class initializer.\n",
    "\n",
    "        Args:\n",
    "        - bin_size (int): number of discrete bins per feature to be used in the state space discretization\n",
    "        - seed (int): random seed used for initializing the environment and the numpy random generator\n",
    "        \"\"\"\n",
    "        self.env = gym.make(\"CartPole-v1\", render_mode=\"rgb_array\")\n",
    "        self.seed = seed\n",
    "        if self.seed:\n",
    "            self.env.action_space.seed(self.seed)\n",
    "            np.random.seed(self.seed)\n",
    "            \n",
    "        # initialize environment and Q-Table\n",
    "        self.reset()\n",
    "        self.state_space = self.env.state.shape[0] # number of states (Position, Velocity, Angle, Angular Velocity): 4\n",
    "        self.action_space = self.env.action_space.n # number of possible actions (0, 1): 2\n",
    "        self.bin_size = bin_size\n",
    "        self.q_table, self.discrete_os_win_size = self.Qtable()\n",
    "        \n",
    "        # Epsilon\n",
    "        self.epsilon = 0.5\n",
    "    \n",
    "    def reset(self):\n",
    "        \"\"\"\n",
    "        Reset the environment and returns its initial state.\n",
    "\n",
    "        Returns:\n",
    "        - initial_state (numpy.ndarray): initial state of the environment\n",
    "        \"\"\"\n",
    "        if self.seed:\n",
    "            return self.env.reset(seed=self.seed)\n",
    "        else:\n",
    "            return self.env.reset()\n",
    "\n",
    "    def __get_last(self, l):\n",
    "        \"\"\"\n",
    "        Private function that returns the last element of a list.\n",
    "\n",
    "        Args:\n",
    "        - l (list): input list\n",
    "\n",
    "        Returns:\n",
    "        - last element of the input list\n",
    "        \"\"\"\n",
    "        return None if len(l) <= 0 else l[-1]\n",
    "    \n",
    "    def Qtable(self):\n",
    "        \"\"\"\n",
    "        Initializes the Q-Table and the state space discretization windows.\n",
    "\n",
    "        Returns:\n",
    "        - q_table (numpy.ndarray): Q-Table of dimensions (discrete_state_space x action_space)\n",
    "        - discrete_os_win_size (numpy.ndarray): discretization windows for each feature of the state space\n",
    "        \"\"\"\n",
    "        high = env.observation_space.high\n",
    "        low = env.observation_space.low\n",
    "        \n",
    "        high[high > 1e30] = 4 # for infinit number we will take 4 as min and max range\n",
    "        low[low < -1e30] = -4 # for infinit number we will take 4 as min and max range\n",
    "\n",
    "        discrete_os_size = [self.bin_size] * self.state_space\n",
    "        discrete_os_win_size = (high - low) / discrete_os_size\n",
    "        \n",
    "        q_table = np.random.uniform(low=-2, high=2, size=(discrete_os_size + [self.action_space]))\n",
    "        return q_table, discrete_os_win_size\n",
    "    \n",
    "    def get_discrete(self, state):\n",
    "        \"\"\"\n",
    "        Discretize the continuous state space into a discrete state space.\n",
    "\n",
    "        Args:\n",
    "        - state (numpy.ndarray): continuous state space\n",
    "\n",
    "        Returns:\n",
    "        - tuple: tuple representing the discretized state space\n",
    "        \"\"\"\n",
    "        low = env.observation_space.low\n",
    "        low[low < -1e30] = -4 # for infinit number we will take 4 as min and max range\n",
    "        \n",
    "        discrete_state = (state - low) / self.discrete_os_win_size\n",
    "        return tuple(discrete_state.astype(np.int64))\n",
    "    \n",
    "    def policy(self, state: tuple):\n",
    "        \"\"\"\n",
    "        Choose an action based on the epsilon-greedy policy.\n",
    "\n",
    "        Args:\n",
    "            state (tuple): The current state.\n",
    "\n",
    "        Returns:\n",
    "            int: The selected action.\n",
    "        \"\"\"\n",
    "        return np.argmax(self.q_table[state])\n",
    "    \n",
    "    def new_Q_value(self, reward: float, new_state: tuple, gamma = 0.95) -> float:\n",
    "        \"\"\"\n",
    "        Calculate the new Q-value for the current state and action.\n",
    "\n",
    "        Args:\n",
    "            reward (float): The immediate reward.\n",
    "            new_state (tuple): The next state.\n",
    "            gamma (float, optional): The discount factor. Defaults to 0.95.\n",
    "\n",
    "        Returns:\n",
    "            float: The new Q-value.\n",
    "        \"\"\"\n",
    "        # Maximum possible QValue in the next step\n",
    "        max_future_q = np.max(self.q_table[new_state])\n",
    "        learned_value = reward + gamma * max_future_q\n",
    "        return learned_value\n",
    "    \n",
    "    def learning_rate(self) -> float:\n",
    "        \"\"\"\n",
    "        Return the learning rate.\n",
    "\n",
    "        Returns:\n",
    "            float: The learning rate.\n",
    "        \"\"\"\n",
    "        return 0.1\n",
    "    \n",
    "    def update_exploration_rate(self, episode: int) -> float:\n",
    "        \"\"\"\n",
    "        Update the exploration rate based on the episode number.\n",
    "\n",
    "        Args:\n",
    "            episode (int): The current episode number.\n",
    "\n",
    "        Returns:\n",
    "            float: The new exploration rate.\n",
    "        \"\"\"\n",
    "        start_epsilon_decaying = 1\n",
    "        end_epsilon_decaying = EPISODES // 2\n",
    "        epsilon_decay_value = self.epsilon / (end_epsilon_decaying - start_epsilon_decaying)\n",
    "        if end_epsilon_decaying >= episode >= start_epsilon_decaying:\n",
    "            self.epsilon -= epsilon_decay_value\n",
    "    \n",
    "    def fit(self, episodes = 2000):\n",
    "        \"\"\"\n",
    "        Function to train the agent on the Cartpole problem.\n",
    "\n",
    "        Args:\n",
    "        - episodes (int): The number of episodes to train the agent. Default is 2000.\n",
    "\n",
    "        Returns:\n",
    "        - rewards (list): The list of rewards obtained at each episode.\n",
    "        - aggr_ep_rewards (dict): A dictionary containing the evolution of the average, minimum and maximum rewards obtained\n",
    "                                   over the episodes.\n",
    "        \"\"\"\n",
    "\n",
    "        rewards = []\n",
    "        aggr_ep_rewards = {'ep': [], 'avg': [], 'min': [], 'max': []}\n",
    "        solved = 0\n",
    "\n",
    "        for episode in range(episodes):\n",
    "            print(f\"{episode + 1}/{episodes} : sloved=({solved} => {int(solved * 100 / (episode+1))}%) | avg: {self.__get_last(aggr_ep_rewards['avg'])} min: {self.__get_last(aggr_ep_rewards['min'])} max: {self.__get_last(aggr_ep_rewards['max'])}\", end=\"\\r\")\n",
    "            # episode initialization \n",
    "            discrete_state = self.get_discrete(self.reset()[0])\n",
    "            score = 0\n",
    "            step = 0\n",
    "            done = False\n",
    "\n",
    "            # learning loop for the current episode\n",
    "            while not done:\n",
    "                # action selection\n",
    "                if np.random.random() > self.epsilon:\n",
    "                    action = self.policy(discrete_state) # policy action\n",
    "                else:\n",
    "                    action = self.env.action_space.sample() # random action\n",
    "\n",
    "                # increment environment\n",
    "                observation, reward, terminated, truncated, info = self.env.step(action)\n",
    "                done = terminated or truncated\n",
    "                next_state = self.get_discrete(observation)\n",
    "                score += reward\n",
    "\n",
    "                # If the simulation did not end - updating Q table\n",
    "                if not done:\n",
    "                    # learning from environnement\n",
    "                    lr = self.learning_rate()\n",
    "                    learnt_value = self.new_Q_value(reward, next_state)\n",
    "                    # Current Qvalue for the current state and selected action\n",
    "                    current_q = self.q_table[discrete_state + (action, )]\n",
    "                    # QLearning equation to calculate the new Qvalue\n",
    "                    new_q = (1-lr) * current_q + lr * learnt_value\n",
    "                    # Updating Qtable\n",
    "                    self.q_table[discrete_state + (action, )] = new_q\n",
    "                    \n",
    "                # if simulation ended and goal position is achived\n",
    "                elif score >= 475:\n",
    "                    self.q_table[discrete_state + (action, )] = 0\n",
    "                    # End of the episode update\n",
    "                    solved += 1\n",
    "                \n",
    "                discrete_state = next_state\n",
    "                \n",
    "                step += 1\n",
    "                \n",
    "            # Updating epsilon rate\n",
    "            self.update_exploration_rate(episode)\n",
    "                \n",
    "            rewards += [score]\n",
    "            if not episode % SHOW_EVERY:\n",
    "                average_reward = sum(rewards[-SHOW_EVERY:])/len(rewards[-SHOW_EVERY:])\n",
    "                aggr_ep_rewards['ep'] += [episode]\n",
    "                aggr_ep_rewards['avg'] += [average_reward]\n",
    "                aggr_ep_rewards['min'] += [min(rewards[-SHOW_EVERY:])]\n",
    "                aggr_ep_rewards['max'] += [max(rewards[-SHOW_EVERY:])]\n",
    "                \n",
    "                \n",
    "        self.env.close()\n",
    "        print(\"\\nEnd\")\n",
    "        return rewards, aggr_ep_rewards\n",
    "    \n",
    "    def render(self):\n",
    "        \"\"\"\n",
    "        Render the environment and display the simulation as a sequence of plots.\n",
    "\n",
    "        Returns:\n",
    "        None\n",
    "        \"\"\"\n",
    "        # Initialize the plot and current state\n",
    "        img = plt.imshow(self.env.render())\n",
    "        current_state = self.get_discrete(self.env.reset()[0])\n",
    "        # Run the simulation for 1000 timesteps\n",
    "        for t in range(1000):\n",
    "            # Take an action according to the policy\n",
    "            action = self.policy(current_state)\n",
    "            # Perform the action and get the observation, reward, and done signal\n",
    "            observation, reward, terminated, truncated, info = self.env.step(action)\n",
    "            done = terminated or truncated\n",
    "\n",
    "            # Update the plot and display the image\n",
    "            img.set_data(self.env.render())\n",
    "            plt.axis('off')\n",
    "            plt.suptitle(f\"Timestep=({t})\")\n",
    "            display.display(plt.gcf())\n",
    "            clear_output(wait=True)\n",
    "\n",
    "            # Reset the environment if done signal is True\n",
    "            if done:\n",
    "                observation, info = self.reset()\n",
    "                break\n",
    "            else:\n",
    "                current_state = self.get_discrete(observation)\n",
    "\n",
    "        # Close the environment\n",
    "        self.env.close()\n",
    "    \n",
    "    def __update_plot(self, frame_number, current_state, num_iteration):\n",
    "        \"\"\"\n",
    "        Helper function to update the plot for each timestep in the simulation.\n",
    "\n",
    "        Args:\n",
    "        frame_number (int): The current timestep in the simulation.\n",
    "        current_state (tuple): The current state of the environment.\n",
    "        num_iteration (int): The number of iterations remaining in the simulation.\n",
    "\n",
    "        Returns:\n",
    "        tuple: A tuple containing the new plot image, the updated frame number, the current state, and the number of iterations.\n",
    "        \"\"\"\n",
    "        # Take an action according to the policy\n",
    "        action = self.policy(current_state)\n",
    "        # Perform the action and get the observation, reward, and done signal\n",
    "        observation, reward, terminated, truncated, info = self.env.step(action)\n",
    "        done = terminated or truncated\n",
    "        # Get the new state of the environment\n",
    "        state = self.env.render()\n",
    "\n",
    "        # converting state to plot in order to stylize it\n",
    "        fig = Figure()\n",
    "        canvas = FigureCanvas(fig)\n",
    "        ax = fig.add_subplot(1,1,1)\n",
    "        ax.imshow(state)\n",
    "        ax.axis('off')\n",
    "        ax.set_title(f\"Timestep=({frame_number})\")\n",
    "        canvas.draw()\n",
    "\n",
    "        # reconverting plot to state\n",
    "        size = fig.get_size_inches() * fig.dpi\n",
    "        image = np.frombuffer(canvas.tostring_rgb(), dtype='uint8').reshape(int(size[1]), int(size[0]), 3)\n",
    "\n",
    "        # Reset the environment if done signal is True\n",
    "        if done:\n",
    "            observation, info = self.reset()\n",
    "            num_iteration -= 1\n",
    "            time.sleep(0.5)\n",
    "            frame_number = 0\n",
    "        else:\n",
    "            current_state = self.get_discrete(observation)\n",
    "            frame_number += 1\n",
    "        return image, frame_number, current_state, num_iteration\n",
    "    \n",
    "    def save(self):\n",
    "        \"\"\"\n",
    "        Save the simulation as a GIF.\n",
    "\n",
    "        Returns:\n",
    "        None\n",
    "        \"\"\"\n",
    "        # Get the initial state and render it\n",
    "        current_state = self.get_discrete(self.reset()[0])\n",
    "        frame = self.env.render()\n",
    "        # Initialize the number of iterations and frames\n",
    "        num_iteration = 5\n",
    "        images = []\n",
    "        frame_number = 0\n",
    "        # Run the simulation for num_iteration iterations\n",
    "        while num_iteration > 0:\n",
    "            print(f\"{(5 - num_iteration)+1}/{5}\", end=\"\\r\")\n",
    "            # Update the plot and append the resulting image to images\n",
    "            frame, frame_number, current_state, num_iteration = self.__update_plot(frame_number, current_state, num_iteration)\n",
    "            images.append(Image.fromarray(frame))\n",
    "        # Save the images as a gif\n",
    "        print(\"\\nSaving..............\", end=\"\\r\")     \n",
    "        images[0].save('img/cartpole.gif', format='GIF', save_all=True, append_images=images[1:], duration=50, loop=0)\n",
    "        print(\"Saved                   \")"
   ]
  },
  {
   "cell_type": "code",
   "execution_count": 5,
   "id": "20f66b9c-4b66-4ff7-a8db-49c3092ad69a",
   "metadata": {
    "tags": []
   },
   "outputs": [
    {
     "name": "stdout",
     "output_type": "stream",
     "text": [
      "25000/25000 : sloved=(450 => 1%) | avg: 228.436 min: 61.0 max: 500.0\n",
      "End\n"
     ]
    }
   ],
   "source": [
    "agent_argmax = Agent(bin_size=30)\n",
    "rewards_argmax, aggr_ep_rewards_argmax = agent_argmax.fit(episodes = EPISODES)"
   ]
  },
  {
   "cell_type": "code",
   "execution_count": 6,
   "id": "2ff8b551-2a99-4fb4-acb1-c95ee97f0037",
   "metadata": {
    "tags": []
   },
   "outputs": [
    {
     "data": {
      "image/png": "[encoded data removed]",
      "text/plain": [
       "<Figure size 640x480 with 1 Axes>"
      ]
     },
     "metadata": {},
     "output_type": "display_data"
    }
   ],
   "source": [
    "agent_argmax.render()"
   ]
  },
  {
   "cell_type": "code",
   "execution_count": 7,
   "id": "da6d1f84-c583-4428-9417-1b7dc30b7f99",
   "metadata": {
    "tags": []
   },
   "outputs": [
    {
     "data": {
      "image/png": "[encoded data removed]",
      "text/plain": [
       "<Figure size 640x480 with 1 Axes>"
      ]
     },
     "metadata": {},
     "output_type": "display_data"
    }
   ],
   "source": [
    "plt.plot(aggr_ep_rewards_argmax['ep'], aggr_ep_rewards_argmax['avg'], label=\"avg\")\n",
    "plt.plot(aggr_ep_rewards_argmax['ep'], aggr_ep_rewards_argmax['min'], label=\"min\")\n",
    "plt.plot(aggr_ep_rewards_argmax['ep'], aggr_ep_rewards_argmax['max'], label=\"max\")\n",
    "plt.legend(loc=4)\n",
    "plt.show()"
   ]
  },
  {
   "cell_type": "code",
   "execution_count": 10,
   "id": "a9e734e9-04b3-4546-8814-669340640ec8",
   "metadata": {},
   "outputs": [
    {
     "name": "stdout",
     "output_type": "stream",
     "text": [
      "5/5\n",
      "Saved                   \n"
     ]
    }
   ],
   "source": [
    "agent_argmax.save()"
   ]
  },
  {
   "cell_type": "code",
   "execution_count": null,
   "id": "fb177c83-33a1-4649-a3a3-1ece60d2153a",
   "metadata": {},
   "outputs": [],
   "source": []
  }
 ],
 "metadata": {
  "kernelspec": {
   "display_name": "Python 3 (ipykernel)",
   "language": "python",
   "name": "python3"
  },
  "language_info": {
   "codemirror_mode": {
    "name": "ipython",
    "version": 3
   },
   "file_extension": ".py",
   "mimetype": "text/x-python",
   "name": "python",
   "nbconvert_exporter": "python",
   "pygments_lexer": "ipython3",
   "version": "3.11.2"
  }
 },
 "nbformat": 4,
 "nbformat_minor": 5
}
